{
 "cells": [
  {
   "cell_type": "markdown",
   "metadata": {},
   "source": [
    "# Examen : Data Visualization\n",
    "\n",
    "### Questions\n",
    "<ul>\n",
    "<li>L'évolution des ventes globales</li>\n",
    "<li>L'évolution détaillée des ventes</li>\n",
    "<li>Les pays les plus contributeurs au CA</li>\n",
    "<li>Visualisation du CA par pays</li>\n",
    "<li>Le produit qui réalise le plus de vente</li>\n",
    "<li>Le produit qui réalise le plus de profits</li>\n",
    "</ul>"
   ]
  },
  {
   "cell_type": "code",
   "execution_count": 108,
   "metadata": {},
   "outputs": [],
   "source": [
    "# importing libraries\n",
    "\n",
    "import numpy as np\n",
    "import matplotlib.pyplot as plt\n",
    "import pandas as pd\n",
    "import warnings\n",
    "warnings.filterwarnings(\"ignore\")"
   ]
  },
  {
   "cell_type": "code",
   "execution_count": 109,
   "metadata": {},
   "outputs": [
    {
     "data": {
      "text/html": [
       "<div>\n",
       "<style scoped>\n",
       "    .dataframe tbody tr th:only-of-type {\n",
       "        vertical-align: middle;\n",
       "    }\n",
       "\n",
       "    .dataframe tbody tr th {\n",
       "        vertical-align: top;\n",
       "    }\n",
       "\n",
       "    .dataframe thead th {\n",
       "        text-align: right;\n",
       "    }\n",
       "</style>\n",
       "<table border=\"1\" class=\"dataframe\">\n",
       "  <thead>\n",
       "    <tr style=\"text-align: right;\">\n",
       "      <th></th>\n",
       "      <th>Order_ID</th>\n",
       "      <th>Order_Date</th>\n",
       "      <th>Ship_Date</th>\n",
       "      <th>Ship_Mode</th>\n",
       "      <th>Customer_ID</th>\n",
       "      <th>Customer_Name</th>\n",
       "      <th>Segment</th>\n",
       "      <th>City</th>\n",
       "      <th>State</th>\n",
       "      <th>Country</th>\n",
       "      <th>...</th>\n",
       "      <th>Product ID</th>\n",
       "      <th>Category</th>\n",
       "      <th>Sub-Category</th>\n",
       "      <th>Product Name</th>\n",
       "      <th>Sales</th>\n",
       "      <th>Quantity</th>\n",
       "      <th>Discount</th>\n",
       "      <th>Profit</th>\n",
       "      <th>Shipping Cost</th>\n",
       "      <th>Order Priority</th>\n",
       "    </tr>\n",
       "  </thead>\n",
       "  <tbody>\n",
       "    <tr>\n",
       "      <th>0</th>\n",
       "      <td>CA-2012-124891</td>\n",
       "      <td>2012-07-31</td>\n",
       "      <td>2012-07-31</td>\n",
       "      <td>Same Day</td>\n",
       "      <td>RH-19495</td>\n",
       "      <td>Rick Hansen</td>\n",
       "      <td>Consumer</td>\n",
       "      <td>New York City</td>\n",
       "      <td>New York</td>\n",
       "      <td>United States</td>\n",
       "      <td>...</td>\n",
       "      <td>TEC-AC-10003033</td>\n",
       "      <td>Technology</td>\n",
       "      <td>Accessories</td>\n",
       "      <td>Plantronics CS510 - Over-the-Head monaural Wir...</td>\n",
       "      <td>2309.650</td>\n",
       "      <td>7</td>\n",
       "      <td>0.0</td>\n",
       "      <td>762.1845</td>\n",
       "      <td>933.57</td>\n",
       "      <td>Critical</td>\n",
       "    </tr>\n",
       "    <tr>\n",
       "      <th>1</th>\n",
       "      <td>IN-2013-77878</td>\n",
       "      <td>2013-02-05</td>\n",
       "      <td>2013-02-07</td>\n",
       "      <td>Second Class</td>\n",
       "      <td>JR-16210</td>\n",
       "      <td>Justin Ritter</td>\n",
       "      <td>Corporate</td>\n",
       "      <td>Wollongong</td>\n",
       "      <td>New South Wales</td>\n",
       "      <td>Australia</td>\n",
       "      <td>...</td>\n",
       "      <td>FUR-CH-10003950</td>\n",
       "      <td>Furniture</td>\n",
       "      <td>Chairs</td>\n",
       "      <td>Novimex Executive Leather Armchair, Black</td>\n",
       "      <td>3709.395</td>\n",
       "      <td>9</td>\n",
       "      <td>0.1</td>\n",
       "      <td>-288.7650</td>\n",
       "      <td>923.63</td>\n",
       "      <td>Critical</td>\n",
       "    </tr>\n",
       "    <tr>\n",
       "      <th>2</th>\n",
       "      <td>IN-2013-71249</td>\n",
       "      <td>2013-10-17</td>\n",
       "      <td>2013-10-18</td>\n",
       "      <td>First Class</td>\n",
       "      <td>CR-12730</td>\n",
       "      <td>Craig Reiter</td>\n",
       "      <td>Consumer</td>\n",
       "      <td>Brisbane</td>\n",
       "      <td>Queensland</td>\n",
       "      <td>Australia</td>\n",
       "      <td>...</td>\n",
       "      <td>TEC-PH-10004664</td>\n",
       "      <td>Technology</td>\n",
       "      <td>Phones</td>\n",
       "      <td>Nokia Smart Phone, with Caller ID</td>\n",
       "      <td>5175.171</td>\n",
       "      <td>9</td>\n",
       "      <td>0.1</td>\n",
       "      <td>919.9710</td>\n",
       "      <td>915.49</td>\n",
       "      <td>Medium</td>\n",
       "    </tr>\n",
       "    <tr>\n",
       "      <th>3</th>\n",
       "      <td>ES-2013-1579342</td>\n",
       "      <td>2013-01-28</td>\n",
       "      <td>2013-01-30</td>\n",
       "      <td>First Class</td>\n",
       "      <td>KM-16375</td>\n",
       "      <td>Katherine Murray</td>\n",
       "      <td>Home Office</td>\n",
       "      <td>Berlin</td>\n",
       "      <td>Berlin</td>\n",
       "      <td>Germany</td>\n",
       "      <td>...</td>\n",
       "      <td>TEC-PH-10004583</td>\n",
       "      <td>Technology</td>\n",
       "      <td>Phones</td>\n",
       "      <td>Motorola Smart Phone, Cordless</td>\n",
       "      <td>2892.510</td>\n",
       "      <td>5</td>\n",
       "      <td>0.1</td>\n",
       "      <td>-96.5400</td>\n",
       "      <td>910.16</td>\n",
       "      <td>Medium</td>\n",
       "    </tr>\n",
       "    <tr>\n",
       "      <th>4</th>\n",
       "      <td>SG-2013-4320</td>\n",
       "      <td>2013-11-05</td>\n",
       "      <td>2013-11-06</td>\n",
       "      <td>Same Day</td>\n",
       "      <td>RH-9495</td>\n",
       "      <td>Rick Hansen</td>\n",
       "      <td>Consumer</td>\n",
       "      <td>Dakar</td>\n",
       "      <td>Dakar</td>\n",
       "      <td>Senegal</td>\n",
       "      <td>...</td>\n",
       "      <td>TEC-SHA-10000501</td>\n",
       "      <td>Technology</td>\n",
       "      <td>Copiers</td>\n",
       "      <td>Sharp Wireless Fax, High-Speed</td>\n",
       "      <td>2832.960</td>\n",
       "      <td>8</td>\n",
       "      <td>0.0</td>\n",
       "      <td>311.5200</td>\n",
       "      <td>903.04</td>\n",
       "      <td>Critical</td>\n",
       "    </tr>\n",
       "  </tbody>\n",
       "</table>\n",
       "<p>5 rows × 23 columns</p>\n",
       "</div>"
      ],
      "text/plain": [
       "          Order_ID Order_Date  Ship_Date     Ship_Mode Customer_ID  \\\n",
       "0   CA-2012-124891 2012-07-31 2012-07-31      Same Day    RH-19495   \n",
       "1    IN-2013-77878 2013-02-05 2013-02-07  Second Class    JR-16210   \n",
       "2    IN-2013-71249 2013-10-17 2013-10-18   First Class    CR-12730   \n",
       "3  ES-2013-1579342 2013-01-28 2013-01-30   First Class    KM-16375   \n",
       "4     SG-2013-4320 2013-11-05 2013-11-06      Same Day     RH-9495   \n",
       "\n",
       "      Customer_Name      Segment           City            State  \\\n",
       "0       Rick Hansen     Consumer  New York City         New York   \n",
       "1     Justin Ritter    Corporate     Wollongong  New South Wales   \n",
       "2      Craig Reiter     Consumer       Brisbane       Queensland   \n",
       "3  Katherine Murray  Home Office         Berlin           Berlin   \n",
       "4       Rick Hansen     Consumer          Dakar            Dakar   \n",
       "\n",
       "         Country  ...        Product ID    Category Sub-Category  \\\n",
       "0  United States  ...   TEC-AC-10003033  Technology  Accessories   \n",
       "1      Australia  ...   FUR-CH-10003950   Furniture       Chairs   \n",
       "2      Australia  ...   TEC-PH-10004664  Technology       Phones   \n",
       "3        Germany  ...   TEC-PH-10004583  Technology       Phones   \n",
       "4        Senegal  ...  TEC-SHA-10000501  Technology      Copiers   \n",
       "\n",
       "                                        Product Name     Sales Quantity  \\\n",
       "0  Plantronics CS510 - Over-the-Head monaural Wir...  2309.650        7   \n",
       "1          Novimex Executive Leather Armchair, Black  3709.395        9   \n",
       "2                  Nokia Smart Phone, with Caller ID  5175.171        9   \n",
       "3                     Motorola Smart Phone, Cordless  2892.510        5   \n",
       "4                     Sharp Wireless Fax, High-Speed  2832.960        8   \n",
       "\n",
       "  Discount    Profit  Shipping Cost  Order Priority  \n",
       "0      0.0  762.1845         933.57        Critical  \n",
       "1      0.1 -288.7650         923.63        Critical  \n",
       "2      0.1  919.9710         915.49          Medium  \n",
       "3      0.1  -96.5400         910.16          Medium  \n",
       "4      0.0  311.5200         903.04        Critical  \n",
       "\n",
       "[5 rows x 23 columns]"
      ]
     },
     "execution_count": 109,
     "metadata": {},
     "output_type": "execute_result"
    }
   ],
   "source": [
    "# loading the dataset\n",
    "\n",
    "store_sales = pd.read_excel(\"../store_sales.xls\", sheet_name=\"Orders\")\n",
    "store_sales.head()"
   ]
  },
  {
   "cell_type": "code",
   "execution_count": 110,
   "metadata": {},
   "outputs": [
    {
     "name": "stdout",
     "output_type": "stream",
     "text": [
      "<class 'pandas.core.frame.DataFrame'>\n",
      "RangeIndex: 51290 entries, 0 to 51289\n",
      "Data columns (total 23 columns):\n",
      " #   Column          Non-Null Count  Dtype         \n",
      "---  ------          --------------  -----         \n",
      " 0   Order_ID        51290 non-null  object        \n",
      " 1   Order_Date      51290 non-null  datetime64[ns]\n",
      " 2   Ship_Date       51290 non-null  datetime64[ns]\n",
      " 3   Ship_Mode       51290 non-null  object        \n",
      " 4   Customer_ID     51290 non-null  object        \n",
      " 5   Customer_Name   51290 non-null  object        \n",
      " 6   Segment         51290 non-null  object        \n",
      " 7   City            51290 non-null  object        \n",
      " 8   State           51290 non-null  object        \n",
      " 9   Country         51290 non-null  object        \n",
      " 10  Postal_Code     9994 non-null   float64       \n",
      " 11  Market          51290 non-null  object        \n",
      " 12  Region          51290 non-null  object        \n",
      " 13  Product_ID      51290 non-null  object        \n",
      " 14  Category        51290 non-null  object        \n",
      " 15  Sub_Category    51290 non-null  object        \n",
      " 16  Product_Name    51290 non-null  object        \n",
      " 17  Sales           51290 non-null  float64       \n",
      " 18  Quantity        51290 non-null  int64         \n",
      " 19  Discount        51290 non-null  float64       \n",
      " 20  Profit          51290 non-null  float64       \n",
      " 21  Shipping_Cost   51290 non-null  float64       \n",
      " 22  Order_Priority  51290 non-null  object        \n",
      "dtypes: datetime64[ns](2), float64(5), int64(1), object(15)\n",
      "memory usage: 9.0+ MB\n"
     ]
    }
   ],
   "source": [
    "# Cleaning the data\n",
    "\n",
    "store_sales.rename(columns= {\n",
    "    \"Postal Code\": \"Postal_Code\",\n",
    "    \"Product ID\": \"Product_ID\",\n",
    "    \"Sub-Category\": \"Sub_Category\",\n",
    "    \"Product Name\": \"Product_Name\",\n",
    "    \"Shipping Cost\": \"Shipping_Cost\", \n",
    "    \"Order Priority\": \"Order_Priority\"\n",
    "}, inplace=True)\n",
    "\n",
    "store_sales.info()"
   ]
  },
  {
   "cell_type": "markdown",
   "metadata": {},
   "source": [
    "On remarque que les valeurs manquantes au niveau de la variable Postal_Code ne pose aucun problème dans l'analyse qu'on va mener.\n",
    "Maintenant, il n'y a plus d'ambiguité dans les données, on peut procéder à l'analyse."
   ]
  },
  {
   "cell_type": "markdown",
   "metadata": {},
   "source": [
    "#### Question 1 : L'évolution des ventes globales"
   ]
  },
  {
   "cell_type": "markdown",
   "metadata": {},
   "source": [
    "Pour répondre à cette question, on se limitera aux variables Order_Date, Sales.<br>"
   ]
  },
  {
   "cell_type": "code",
   "execution_count": 128,
   "metadata": {},
   "outputs": [
    {
     "data": {
      "text/html": [
       "<div>\n",
       "<style scoped>\n",
       "    .dataframe tbody tr th:only-of-type {\n",
       "        vertical-align: middle;\n",
       "    }\n",
       "\n",
       "    .dataframe tbody tr th {\n",
       "        vertical-align: top;\n",
       "    }\n",
       "\n",
       "    .dataframe thead th {\n",
       "        text-align: right;\n",
       "    }\n",
       "</style>\n",
       "<table border=\"1\" class=\"dataframe\">\n",
       "  <thead>\n",
       "    <tr style=\"text-align: right;\">\n",
       "      <th></th>\n",
       "      <th>Order_ID</th>\n",
       "      <th>Order_Date</th>\n",
       "      <th>Sales</th>\n",
       "      <th>Profit</th>\n",
       "      <th>Order_Year</th>\n",
       "      <th>Order_Month</th>\n",
       "    </tr>\n",
       "  </thead>\n",
       "  <tbody>\n",
       "    <tr>\n",
       "      <th>0</th>\n",
       "      <td>CA-2012-124891</td>\n",
       "      <td>2012-07-31</td>\n",
       "      <td>2309.650</td>\n",
       "      <td>762.1845</td>\n",
       "      <td>2012</td>\n",
       "      <td>07-2012</td>\n",
       "    </tr>\n",
       "    <tr>\n",
       "      <th>1</th>\n",
       "      <td>IN-2013-77878</td>\n",
       "      <td>2013-02-05</td>\n",
       "      <td>3709.395</td>\n",
       "      <td>-288.7650</td>\n",
       "      <td>2013</td>\n",
       "      <td>02-2013</td>\n",
       "    </tr>\n",
       "    <tr>\n",
       "      <th>2</th>\n",
       "      <td>IN-2013-71249</td>\n",
       "      <td>2013-10-17</td>\n",
       "      <td>5175.171</td>\n",
       "      <td>919.9710</td>\n",
       "      <td>2013</td>\n",
       "      <td>10-2013</td>\n",
       "    </tr>\n",
       "    <tr>\n",
       "      <th>3</th>\n",
       "      <td>ES-2013-1579342</td>\n",
       "      <td>2013-01-28</td>\n",
       "      <td>2892.510</td>\n",
       "      <td>-96.5400</td>\n",
       "      <td>2013</td>\n",
       "      <td>01-2013</td>\n",
       "    </tr>\n",
       "    <tr>\n",
       "      <th>4</th>\n",
       "      <td>SG-2013-4320</td>\n",
       "      <td>2013-11-05</td>\n",
       "      <td>2832.960</td>\n",
       "      <td>311.5200</td>\n",
       "      <td>2013</td>\n",
       "      <td>11-2013</td>\n",
       "    </tr>\n",
       "  </tbody>\n",
       "</table>\n",
       "</div>"
      ],
      "text/plain": [
       "          Order_ID Order_Date     Sales    Profit Order_Year Order_Month\n",
       "0   CA-2012-124891 2012-07-31  2309.650  762.1845       2012     07-2012\n",
       "1    IN-2013-77878 2013-02-05  3709.395 -288.7650       2013     02-2013\n",
       "2    IN-2013-71249 2013-10-17  5175.171  919.9710       2013     10-2013\n",
       "3  ES-2013-1579342 2013-01-28  2892.510  -96.5400       2013     01-2013\n",
       "4     SG-2013-4320 2013-11-05  2832.960  311.5200       2013     11-2013"
      ]
     },
     "execution_count": 128,
     "metadata": {},
     "output_type": "execute_result"
    }
   ],
   "source": [
    "# new Dataframe using only significant variables\n",
    "sales_profit_evolution = store_sales[[\"Order_ID\", \"Order_Date\", \"Sales\"]]\n",
    "# adding new columns for year and month date\n",
    "sales_profit_evolution[\"Order_Year\"] = sales_profit_evolution[\"Order_Date\"].dt.strftime(\"%Y\")\n",
    "sales_profit_evolution[\"Order_Month\"] = sales_profit_evolution[\"Order_Date\"].dt.strftime(\"%m-%Y\")\n",
    "sales_profit_evolution.head()"
   ]
  },
  {
   "cell_type": "code",
   "execution_count": 129,
   "metadata": {},
   "outputs": [
    {
     "data": {
      "text/html": [
       "<div>\n",
       "<style scoped>\n",
       "    .dataframe tbody tr th:only-of-type {\n",
       "        vertical-align: middle;\n",
       "    }\n",
       "\n",
       "    .dataframe tbody tr th {\n",
       "        vertical-align: top;\n",
       "    }\n",
       "\n",
       "    .dataframe thead th {\n",
       "        text-align: right;\n",
       "    }\n",
       "</style>\n",
       "<table border=\"1\" class=\"dataframe\">\n",
       "  <thead>\n",
       "    <tr style=\"text-align: right;\">\n",
       "      <th></th>\n",
       "      <th>Order_Year</th>\n",
       "      <th>Sales</th>\n",
       "    </tr>\n",
       "  </thead>\n",
       "  <tbody>\n",
       "    <tr>\n",
       "      <th>0</th>\n",
       "      <td>2011</td>\n",
       "      <td>2.259451e+06</td>\n",
       "    </tr>\n",
       "    <tr>\n",
       "      <th>1</th>\n",
       "      <td>2012</td>\n",
       "      <td>2.677439e+06</td>\n",
       "    </tr>\n",
       "    <tr>\n",
       "      <th>2</th>\n",
       "      <td>2013</td>\n",
       "      <td>3.405746e+06</td>\n",
       "    </tr>\n",
       "    <tr>\n",
       "      <th>3</th>\n",
       "      <td>2014</td>\n",
       "      <td>4.299866e+06</td>\n",
       "    </tr>\n",
       "  </tbody>\n",
       "</table>\n",
       "</div>"
      ],
      "text/plain": [
       "  Order_Year         Sales\n",
       "0       2011  2.259451e+06\n",
       "1       2012  2.677439e+06\n",
       "2       2013  3.405746e+06\n",
       "3       2014  4.299866e+06"
      ]
     },
     "execution_count": 129,
     "metadata": {},
     "output_type": "execute_result"
    }
   ],
   "source": [
    "# sum of sales by year\n",
    "sales_sum_by_year = sales_profit_evolution.groupby(\"Order_Year\")[\"Sales\"].sum()\n",
    "sales_sum_by_year = pd.DataFrame({\n",
    "    \"Order_Year\" : sales_sum_by_year.index,\n",
    "    \"Sales\" : sales_sum_by_year.values\n",
    "})\n",
    "sales_sum_by_year.head()"
   ]
  },
  {
   "cell_type": "markdown",
   "metadata": {},
   "source": [
    "On remarque qu'il y a une croissance significative au niveau des ventes au fil du temps"
   ]
  },
  {
   "cell_type": "code",
   "execution_count": 171,
   "metadata": {},
   "outputs": [
    {
     "data": {
      "text/plain": [
       "Text(0.5, 1.0, 'Evolution des Ventes par Année')"
      ]
     },
     "execution_count": 171,
     "metadata": {},
     "output_type": "execute_result"
    },
    {
     "data": {
      "image/png": "[encoded data removed]",
      "text/plain": [
       "<Figure size 432x288 with 1 Axes>"
      ]
     },
     "metadata": {
      "needs_background": "light"
     },
     "output_type": "display_data"
    }
   ],
   "source": [
    "# plotting sales evolution by year\n",
    "plt.plot(sales_sum_by_year[\"Order_Year\"], sales_sum_by_year[\"Sales\"], \"h-r\")\n",
    "plt.xlabel(\"années\")\n",
    "plt.xticks(sales_sum_by_year[\"Order_Year\"])\n",
    "plt.ylabel(\"ventes\")\n",
    "plt.title(\"Evolution des Ventes par Année\")"
   ]
  },
  {
   "cell_type": "markdown",
   "metadata": {},
   "source": [
    "La courbe approuve les résultats du tableau, sauf qu'elle ajoute le faite que le taux de croissance des ventes s'améliore chaque année, c'est à dire que le rapport des ventes de chaque année sur l'année qui précède augmente, ce qui est favorable.<br><br>\n",
    "Essayons d'analyser les ventes avec plus de details"
   ]
  },
  {
   "cell_type": "markdown",
   "metadata": {},
   "source": [
    "#### Question 2 : L'évolution détaillée des ventes"
   ]
  },
  {
   "cell_type": "code",
   "execution_count": 250,
   "metadata": {},
   "outputs": [
    {
     "data": {
      "text/html": [
       "<div>\n",
       "<style scoped>\n",
       "    .dataframe tbody tr th:only-of-type {\n",
       "        vertical-align: middle;\n",
       "    }\n",
       "\n",
       "    .dataframe tbody tr th {\n",
       "        vertical-align: top;\n",
       "    }\n",
       "\n",
       "    .dataframe thead th {\n",
       "        text-align: right;\n",
       "    }\n",
       "</style>\n",
       "<table border=\"1\" class=\"dataframe\">\n",
       "  <thead>\n",
       "    <tr style=\"text-align: right;\">\n",
       "      <th></th>\n",
       "      <th>Order_Month</th>\n",
       "      <th>Sales</th>\n",
       "    </tr>\n",
       "  </thead>\n",
       "  <tbody>\n",
       "    <tr>\n",
       "      <th>0</th>\n",
       "      <td>2011-01-01</td>\n",
       "      <td>98898.48886</td>\n",
       "    </tr>\n",
       "    <tr>\n",
       "      <th>1</th>\n",
       "      <td>2011-02-01</td>\n",
       "      <td>91152.15698</td>\n",
       "    </tr>\n",
       "    <tr>\n",
       "      <th>2</th>\n",
       "      <td>2011-03-01</td>\n",
       "      <td>145729.36736</td>\n",
       "    </tr>\n",
       "    <tr>\n",
       "      <th>3</th>\n",
       "      <td>2011-04-01</td>\n",
       "      <td>116915.76418</td>\n",
       "    </tr>\n",
       "    <tr>\n",
       "      <th>4</th>\n",
       "      <td>2011-05-01</td>\n",
       "      <td>146747.83610</td>\n",
       "    </tr>\n",
       "  </tbody>\n",
       "</table>\n",
       "</div>"
      ],
      "text/plain": [
       "  Order_Month         Sales\n",
       "0  2011-01-01   98898.48886\n",
       "1  2011-02-01   91152.15698\n",
       "2  2011-03-01  145729.36736\n",
       "3  2011-04-01  116915.76418\n",
       "4  2011-05-01  146747.83610"
      ]
     },
     "execution_count": 250,
     "metadata": {},
     "output_type": "execute_result"
    }
   ],
   "source": [
    "# sum of sales by month and year\n",
    "sales_sum_by_month = sales_profit_evolution.groupby(\"Order_Month\")[\"Sales\"].sum()\n",
    "sales_sum_by_month = pd.DataFrame({\n",
    "    \"Order_Month\" : sales_sum_by_month.index,\n",
    "    \"Sales\" : sales_sum_by_month.values\n",
    "})\n",
    "# sorting the dataframe by month and year\n",
    "sales_sum_by_month[\"Order_Month\"] = pd.to_datetime(sales_sum_by_month[\"Order_Month\"])\n",
    "sales_sum_by_month = sales_sum_by_month.sort_values(by=\"Order_Month\")\n",
    "sales_sum_by_month.reset_index( drop=True, inplace=True)\n",
    "sales_sum_by_month.head()"
   ]
  },
  {
   "cell_type": "code",
   "execution_count": 251,
   "metadata": {},
   "outputs": [
    {
     "data": {
      "image/png": "[encoded data removed]",
      "text/plain": [
       "<Figure size 432x288 with 1 Axes>"
      ]
     },
     "metadata": {
      "needs_background": "light"
     },
     "output_type": "display_data"
    }
   ],
   "source": [
    "# visualizing the monthly sales evolution\n",
    "plt.plot(sales_sum_by_month[\"Order_Month\"], sales_sum_by_month[\"Sales\"], \"+-g\")\n",
    "plt.xlabel(\"time\")\n",
    "plt.ylabel(\"sales\")\n",
    "plt.title(\"Evolution des Ventes\")\n",
    "plt.rc(\"xtick\", labelsize=8)"
   ]
  },
  {
   "cell_type": "markdown",
   "metadata": {},
   "source": [
    "En rentrant dans les details de l'évolution des ventes, en analysant la croissance mensuelle au fil des années, on remarque que en moyenne, il y'a une tendance vers la croissance des ventes.\n",
    "Cependant, il y'a une remarque très importante à tirer de la courbe, c'est que dans une même année, on trouve quatres sommets, c'est à dire que chaque 3 mois, on commence par des ventes méiocres, puis élévées, puis médiocres encore à la fin, et ainsi de suite. On pourrait dire qu'il y a une croissance en moyenne durant chaque année, mais l'évolution est très volatile au niveau de chaque année du faite de l'éxistance de quatres saisonnalités."
   ]
  },
  {
   "cell_type": "markdown",
   "metadata": {},
   "source": [
    "#### Question 3: Les pays les plus contributeurs au CA"
   ]
  },
  {
   "cell_type": "markdown",
   "metadata": {},
   "source": [
    "Le chiffre d'affaire de l'entreprise est l'ensemble des ventes qu'elle réalise pendant une durrée déterminée.<br>\n",
    "On essaiera de déterminer les pays contributeurs dans le CA globale (tout au long des quatres années), ensuite on verra le CA pour chaque anneé."
   ]
  },
  {
   "cell_type": "code",
   "execution_count": 260,
   "metadata": {},
   "outputs": [
    {
     "data": {
      "text/html": [
       "<div>\n",
       "<style scoped>\n",
       "    .dataframe tbody tr th:only-of-type {\n",
       "        vertical-align: middle;\n",
       "    }\n",
       "\n",
       "    .dataframe tbody tr th {\n",
       "        vertical-align: top;\n",
       "    }\n",
       "\n",
       "    .dataframe thead th {\n",
       "        text-align: right;\n",
       "    }\n",
       "</style>\n",
       "<table border=\"1\" class=\"dataframe\">\n",
       "  <thead>\n",
       "    <tr style=\"text-align: right;\">\n",
       "      <th></th>\n",
       "      <th>Country</th>\n",
       "      <th>Sales</th>\n",
       "      <th>Contribution (%)</th>\n",
       "    </tr>\n",
       "  </thead>\n",
       "  <tbody>\n",
       "    <tr>\n",
       "      <th>0</th>\n",
       "      <td>United States</td>\n",
       "      <td>2.297201e+06</td>\n",
       "      <td>18.170461</td>\n",
       "    </tr>\n",
       "    <tr>\n",
       "      <th>1</th>\n",
       "      <td>Australia</td>\n",
       "      <td>9.252359e+05</td>\n",
       "      <td>7.318455</td>\n",
       "    </tr>\n",
       "    <tr>\n",
       "      <th>2</th>\n",
       "      <td>France</td>\n",
       "      <td>8.589311e+05</td>\n",
       "      <td>6.793996</td>\n",
       "    </tr>\n",
       "    <tr>\n",
       "      <th>3</th>\n",
       "      <td>China</td>\n",
       "      <td>7.005620e+05</td>\n",
       "      <td>5.541324</td>\n",
       "    </tr>\n",
       "    <tr>\n",
       "      <th>4</th>\n",
       "      <td>Germany</td>\n",
       "      <td>6.288400e+05</td>\n",
       "      <td>4.974016</td>\n",
       "    </tr>\n",
       "  </tbody>\n",
       "</table>\n",
       "</div>"
      ],
      "text/plain": [
       "         Country         Sales  Contribution (%)\n",
       "0  United States  2.297201e+06         18.170461\n",
       "1      Australia  9.252359e+05          7.318455\n",
       "2         France  8.589311e+05          6.793996\n",
       "3          China  7.005620e+05          5.541324\n",
       "4        Germany  6.288400e+05          4.974016"
      ]
     },
     "execution_count": 260,
     "metadata": {},
     "output_type": "execute_result"
    }
   ],
   "source": [
    "# new Dataframe using only significant variables\n",
    "ca_contribution = store_sales[[\"Order_ID\", \"Order_Date\", \"Country\", \"Sales\"]]\n",
    "#creating a Order_Year column\n",
    "ca_contribution[\"Order_Year\"] = ca_contribution[\"Order_Date\"].dt.strftime(\"%Y\")\n",
    "\n",
    "# contribution throughout the entire timespan\n",
    "ca_global_contribution = ca_contribution.groupby(\"Country\")[\"Sales\"].sum()\n",
    "ca_global_contribution = pd.DataFrame({\n",
    "    \"Country\": ca_global_contribution.index,\n",
    "    \"Sales\": ca_global_contribution.values\n",
    "})\n",
    "ca_global_contribution.sort_values(by=\"Sales\", inplace=True, ascending=False)\n",
    "ca_global_contribution.reset_index(drop=True, inplace=True)\n",
    "\n",
    "# adding a contribution column for each country\n",
    "sales_sum = ca_global_contribution[\"Sales\"].sum()\n",
    "ca_global_contribution[\"Contribution (%)\"] = ca_global_contribution[\"Sales\"].apply(lambda sale : (sale / sales_sum) * 100)\n",
    "ca_global_contribution.head()"
   ]
  },
  {
   "cell_type": "markdown",
   "metadata": {},
   "source": [
    "Le tableau ci-dessous représente la contribution globale que réalise chaque pays dans le chiffre d'affaire de l'entreprise.\n",
    "On remarque que les trois pays qui représentent le CA le plus sont:\n",
    "<ol><li>USA</li>\n",
    "<li>Austrlie</li>\n",
    "<li>France</li></ol><br>\n",
    "On remarque que la part que représente USA est la plus importante puisqu'elle est de 18% tandis que l'Australie et la France représentent respectivement 7,3% et 6,8%. Essayons de visualiser ces résultats à travers un <i>bar chart</i>"
   ]
  },
  {
   "cell_type": "code",
   "execution_count": 261,
   "metadata": {},
   "outputs": [
    {
     "data": {
      "text/plain": [
       "<AxesSubplot:title={'center':'Contribution en CA par pays'}, xlabel='Country'>"
      ]
     },
     "execution_count": 261,
     "metadata": {},
     "output_type": "execute_result"
    },
    {
     "data": {
      "image/png": "[encoded data removed]",
      "text/plain": [
       "<Figure size 432x288 with 1 Axes>"
      ]
     },
     "metadata": {
      "needs_background": "light"
     },
     "output_type": "display_data"
    }
   ],
   "source": [
    "# restricting the countries to the 10 most impactful ones on the CA\n",
    "ca_global_contribution = ca_global_contribution.iloc[:10]\n",
    "\n",
    "ca_global_contribution.plot.bar(x=\"Country\", y=\"Contribution (%)\", title=\"Contribution en CA par pays\")"
   ]
  },
  {
   "cell_type": "markdown",
   "metadata": {},
   "source": [
    "La figure affirme ce qui a été conclu à partir du tableau.<br>\n",
    "Passons à la contribution en CA au cours des années"
   ]
  },
  {
   "cell_type": "code",
   "execution_count": 269,
   "metadata": {},
   "outputs": [
    {
     "data": {
      "text/html": [
       "<div>\n",
       "<style scoped>\n",
       "    .dataframe tbody tr th:only-of-type {\n",
       "        vertical-align: middle;\n",
       "    }\n",
       "\n",
       "    .dataframe tbody tr th {\n",
       "        vertical-align: top;\n",
       "    }\n",
       "\n",
       "    .dataframe thead th {\n",
       "        text-align: right;\n",
       "    }\n",
       "</style>\n",
       "<table border=\"1\" class=\"dataframe\">\n",
       "  <thead>\n",
       "    <tr style=\"text-align: right;\">\n",
       "      <th></th>\n",
       "      <th>Country</th>\n",
       "      <th>Year</th>\n",
       "      <th>Sales</th>\n",
       "    </tr>\n",
       "  </thead>\n",
       "  <tbody>\n",
       "    <tr>\n",
       "      <th>508</th>\n",
       "      <td>United States</td>\n",
       "      <td>2014</td>\n",
       "      <td>733947.0232</td>\n",
       "    </tr>\n",
       "    <tr>\n",
       "      <th>25</th>\n",
       "      <td>Australia</td>\n",
       "      <td>2014</td>\n",
       "      <td>314733.1020</td>\n",
       "    </tr>\n",
       "    <tr>\n",
       "      <th>160</th>\n",
       "      <td>France</td>\n",
       "      <td>2014</td>\n",
       "      <td>308437.3095</td>\n",
       "    </tr>\n",
       "    <tr>\n",
       "      <th>97</th>\n",
       "      <td>China</td>\n",
       "      <td>2014</td>\n",
       "      <td>218979.2940</td>\n",
       "    </tr>\n",
       "    <tr>\n",
       "      <th>170</th>\n",
       "      <td>Germany</td>\n",
       "      <td>2014</td>\n",
       "      <td>216537.0270</td>\n",
       "    </tr>\n",
       "  </tbody>\n",
       "</table>\n",
       "</div>"
      ],
      "text/plain": [
       "           Country  Year        Sales\n",
       "508  United States  2014  733947.0232\n",
       "25       Australia  2014  314733.1020\n",
       "160         France  2014  308437.3095\n",
       "97           China  2014  218979.2940\n",
       "170        Germany  2014  216537.0270"
      ]
     },
     "execution_count": 269,
     "metadata": {},
     "output_type": "execute_result"
    }
   ],
   "source": [
    "# annual contribution\n",
    "ca_anual_contribution = ca_contribution.groupby([\"Country\", \"Order_Year\"])[\"Sales\"].sum()\n",
    "ca_anual_contribution = pd.DataFrame({\n",
    "    \"Country\": [i for i,j in ca_anual_contribution.index],\n",
    "    \"Year\": [j for i, j in ca_anual_contribution.index],\n",
    "    \"Sales\": ca_anual_contribution.values\n",
    "})\n",
    "ca_anual_contribution.sort_values(by=[\"Year\", \"Sales\"], ascending=False, inplace=True)\n",
    "ca_anual_contribution.head()"
   ]
  },
  {
   "cell_type": "markdown",
   "metadata": {},
   "source": [
    "Par contre dans ce cas, le tableau seul n'est pas suffisant pour pouvoir tirer une conclusion utile et répondre à notre question, essayons alors de visuliser les résultats du tableau."
   ]
  }
 ],
 "metadata": {
  "kernelspec": {
   "display_name": "Python 3.10.4 64-bit",
   "language": "python",
   "name": "python3"
  },
  "language_info": {
   "codemirror_mode": {
    "name": "ipython",
    "version": 3
   },
   "file_extension": ".py",
   "mimetype": "text/x-python",
   "name": "python",
   "nbconvert_exporter": "python",
   "pygments_lexer": "ipython3",
   "version": "3.10.4"
  },
  "orig_nbformat": 4,
  "vscode": {
   "interpreter": {
    "hash": "27f6fea6f47ae512550f0b8facdbd035a93e1dd89633f7bf2dd00a2502c71d0d"
   }
  }
 },
 "nbformat": 4,
 "nbformat_minor": 2
}
